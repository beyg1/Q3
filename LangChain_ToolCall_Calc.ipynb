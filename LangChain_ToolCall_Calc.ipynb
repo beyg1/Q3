{
  "nbformat": 4,
  "nbformat_minor": 0,
  "metadata": {
    "colab": {
      "provenance": [],
      "authorship_tag": "ABX9TyNGvoVVRBx8geY0pETpyJeb",
      "include_colab_link": true
    },
    "kernelspec": {
      "name": "python3",
      "display_name": "Python 3"
    },
    "language_info": {
      "name": "python"
    }
  },
  "cells": [
    {
      "cell_type": "markdown",
      "metadata": {
        "id": "view-in-github",
        "colab_type": "text"
      },
      "source": [
        "<a href=\"https://colab.research.google.com/github/beyg1/Q3/blob/main/LangChain_ToolCall_Calc.ipynb\" target=\"_parent\"><img src=\"https://colab.research.google.com/assets/colab-badge.svg\" alt=\"Open In Colab\"/></a>"
      ]
    },
    {
      "cell_type": "code",
      "execution_count": 33,
      "metadata": {
        "id": "jiBNw4jKgJYD"
      },
      "outputs": [],
      "source": [
        "!pip install -q -U langchain-google-genai # google's generative ai installation with langchain\n",
        "from google.colab import userdata #importing gemini key\n",
        "from langchain_google_genai import ChatGoogleGenerativeAI\n",
        "\n",
        "                                     #connecting LLM\n",
        "llm = ChatGoogleGenerativeAI(model=\"gemini-1.5-flash\",api_key=userdata.get('GOOGLE_API_KEY'))\n",
        "llm.invoke(\"Yello\")\n",
        "\n",
        "                                    #Make Tools/Functions using @tool\n",
        "from langchain_core.tools import tool\n",
        "\n",
        "@tool\n",
        "def add(i:int,j:int):\n",
        "  \"\"\"Adds two numbers\"\"\"\n",
        "  return i+j\n",
        "@tool\n",
        "def minus(i:int,j:int):\n",
        "  \"\"\"Subtracts two numbers\"\"\"\n",
        "  return i-j\n",
        "@tool\n",
        "def multiply(i:int,j:int):\n",
        "  \"\"\"Returns Product of two numbers\"\"\"\n",
        "  return i*j\n",
        "@tool\n",
        "def divide(i:int,j:int):\n",
        "  \"\"\"Returns Division of two numbers\"\"\"\n",
        "  return i/j\n",
        "\n",
        "tools = [add,minus,multiply,divide]\n",
        "\n",
        "llm_tools = llm.bind_tools(tools) ## Bind tools to the LLM"
      ]
    },
    {
      "cell_type": "code",
      "source": [
        "from IPython.display import display\n",
        "#The display function is used to nicely present outputs within a Jupyter Notebook environment.\n",
        "\n",
        "# create message(Prompts & Responses) history\n",
        "from langchain_core.messages import HumanMessage, AIMessage\n",
        "query = \"Multiplication of 4 & 5\"\n",
        "messages = [HumanMessage(query)]\n",
        "display(messages)\n",
        "#4 kinds of messages: Human message, System message, AI message, Tool message\n"
      ],
      "metadata": {
        "colab": {
          "base_uri": "https://localhost:8080/",
          "height": 34
        },
        "id": "-Iiju2HUiYE-",
        "outputId": "c510dd19-8990-411f-9f4b-0751eb8f04f0"
      },
      "execution_count": 44,
      "outputs": [
        {
          "output_type": "display_data",
          "data": {
            "text/plain": [
              "[HumanMessage(content='Multiplication of 4 & 5', additional_kwargs={}, response_metadata={})]"
            ]
          },
          "metadata": {}
        }
      ]
    },
    {
      "cell_type": "code",
      "source": [
        "ai_msg_tools = llm_tools.invoke(messages)\n",
        "messages.append(ai_msg_tools)\n",
        "display(messages)\n",
        "# Remember messages is our list of messages in the conversation? This line adds\n",
        "# the LLM's response (ai_msg_tools) to that list. So now messages has both our\n",
        "# original query and the LLM's answer. This is useful for keeping track of the conversation history."
      ],
      "metadata": {
        "colab": {
          "base_uri": "https://localhost:8080/",
          "height": 86
        },
        "id": "cBh8_bY7i6Ue",
        "outputId": "39acb713-0a12-432d-eb72-ba66674f55da"
      },
      "execution_count": 45,
      "outputs": [
        {
          "output_type": "display_data",
          "data": {
            "text/plain": [
              "[HumanMessage(content='Multiplication of 4 & 5', additional_kwargs={}, response_metadata={}),\n",
              " AIMessage(content='', additional_kwargs={'function_call': {'name': 'multiply', 'arguments': '{\"i\": 4.0, \"j\": 5.0}'}}, response_metadata={'prompt_feedback': {'block_reason': 0, 'safety_ratings': []}, 'finish_reason': 'STOP', 'safety_ratings': []}, id='run-949a37d7-94b1-4dba-aed8-147705c21624-0', tool_calls=[{'name': 'multiply', 'args': {'i': 4.0, 'j': 5.0}, 'id': 'c8f5cba2-332e-4ab5-85c3-2cb9096c36b5', 'type': 'tool_call'}], usage_metadata={'input_tokens': 190, 'output_tokens': 3, 'total_tokens': 193, 'input_token_details': {'cache_read': 0}})]"
            ]
          },
          "metadata": {}
        }
      ]
    },
    {
      "cell_type": "code",
      "source": [
        "ai_msg_tools.tool_calls #Confirms the tool called by llm"
      ],
      "metadata": {
        "colab": {
          "base_uri": "https://localhost:8080/"
        },
        "id": "hOyrL-6DjA-2",
        "outputId": "1f55ce76-d589-450d-8ed8-b1f73ee4ec79"
      },
      "execution_count": 46,
      "outputs": [
        {
          "output_type": "execute_result",
          "data": {
            "text/plain": [
              "[{'name': 'multiply',\n",
              "  'args': {'i': 4.0, 'j': 5.0},\n",
              "  'id': 'c8f5cba2-332e-4ab5-85c3-2cb9096c36b5',\n",
              "  'type': 'tool_call'}]"
            ]
          },
          "metadata": {},
          "execution_count": 46
        }
      ]
    },
    {
      "cell_type": "code",
      "source": [
        "#Finally to get AI message, in this case tool message, which will be passed to llm:\n",
        "for tool_call in ai_msg_tools.tool_calls:\n",
        "    selected_tool = {\n",
        "        \"add\": add,\n",
        "        \"minus\": minus,\n",
        "        \"multiply\": multiply,\n",
        "        \"division\": divide,\n",
        "      }[tool_call[\"name\"].lower()]\n",
        "    tool_msg = selected_tool.invoke(tool_call)\n",
        "    display(tool_msg)\n",
        "    messages.append(tool_msg) #tool message added in chat history"
      ],
      "metadata": {
        "colab": {
          "base_uri": "https://localhost:8080/",
          "height": 34
        },
        "id": "5J2zdopTjIqe",
        "outputId": "3c0e9863-29e0-4480-e0c3-0b9cfbefccd3"
      },
      "execution_count": 47,
      "outputs": [
        {
          "output_type": "display_data",
          "data": {
            "text/plain": [
              "ToolMessage(content='20', name='multiply', tool_call_id='c8f5cba2-332e-4ab5-85c3-2cb9096c36b5')"
            ]
          },
          "metadata": {}
        }
      ]
    },
    {
      "cell_type": "code",
      "source": [
        "display(messages)\n",
        "#prompt (human message) and tool message is now saved in messages"
      ],
      "metadata": {
        "colab": {
          "base_uri": "https://localhost:8080/",
          "height": 104
        },
        "id": "HQPcjPpcmeAU",
        "outputId": "d0c27e63-4a53-4ae8-ec10-690d6189812c"
      },
      "execution_count": 48,
      "outputs": [
        {
          "output_type": "display_data",
          "data": {
            "text/plain": [
              "[HumanMessage(content='Multiplication of 4 & 5', additional_kwargs={}, response_metadata={}),\n",
              " AIMessage(content='', additional_kwargs={'function_call': {'name': 'multiply', 'arguments': '{\"i\": 4.0, \"j\": 5.0}'}}, response_metadata={'prompt_feedback': {'block_reason': 0, 'safety_ratings': []}, 'finish_reason': 'STOP', 'safety_ratings': []}, id='run-949a37d7-94b1-4dba-aed8-147705c21624-0', tool_calls=[{'name': 'multiply', 'args': {'i': 4.0, 'j': 5.0}, 'id': 'c8f5cba2-332e-4ab5-85c3-2cb9096c36b5', 'type': 'tool_call'}], usage_metadata={'input_tokens': 190, 'output_tokens': 3, 'total_tokens': 193, 'input_token_details': {'cache_read': 0}}),\n",
              " ToolMessage(content='20', name='multiply', tool_call_id='c8f5cba2-332e-4ab5-85c3-2cb9096c36b5')]"
            ]
          },
          "metadata": {}
        }
      ]
    },
    {
      "cell_type": "code",
      "source": [
        "# Invoke the llm with messages\n",
        "response = llm_tools.invoke(messages)\n",
        "messages.append(response)"
      ],
      "metadata": {
        "id": "NNY59Prem6eb"
      },
      "execution_count": 49,
      "outputs": []
    },
    {
      "cell_type": "code",
      "source": [
        "#for a nice display format\n",
        "from IPython.display import Markdown\n",
        "\n",
        "Markdown(response.content)"
      ],
      "metadata": {
        "colab": {
          "base_uri": "https://localhost:8080/",
          "height": 46
        },
        "id": "10UAQG1_nBSi",
        "outputId": "1964d344-67a6-4d85-918d-32ad7000bca9"
      },
      "execution_count": 50,
      "outputs": [
        {
          "output_type": "execute_result",
          "data": {
            "text/plain": [
              "<IPython.core.display.Markdown object>"
            ],
            "text/markdown": "The result of the multiplication is 20."
          },
          "metadata": {},
          "execution_count": 50
        }
      ]
    }
  ]
}